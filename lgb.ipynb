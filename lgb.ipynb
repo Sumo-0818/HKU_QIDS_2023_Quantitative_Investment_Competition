{
 "cells": [
  {
   "cell_type": "code",
   "execution_count": 1,
   "id": "4fe19c8b",
   "metadata": {
    "_cell_guid": "b1076dfc-b9ad-4769-8c92-a6c4dae69d19",
    "_uuid": "8f2839f25d086af736a60e9eeb907d3b93b6e0e5",
    "execution": {
     "iopub.execute_input": "2023-03-11T11:28:05.139230Z",
     "iopub.status.busy": "2023-03-11T11:28:05.138277Z",
     "iopub.status.idle": "2023-03-11T11:28:20.889651Z",
     "shell.execute_reply": "2023-03-11T11:28:20.888130Z"
    },
    "papermill": {
     "duration": 15.761388,
     "end_time": "2023-03-11T11:28:20.892905",
     "exception": false,
     "start_time": "2023-03-11T11:28:05.131517",
     "status": "completed"
    },
    "tags": []
   },
   "outputs": [
    {
     "data": {
      "text/html": [
       "<style type='text/css'>\n",
       ".datatable table.frame { margin-bottom: 0; }\n",
       ".datatable table.frame thead { border-bottom: none; }\n",
       ".datatable table.frame tr.coltypes td {  color: #FFFFFF;  line-height: 6px;  padding: 0 0.5em;}\n",
       ".datatable .bool    { background: #DDDD99; }\n",
       ".datatable .object  { background: #565656; }\n",
       ".datatable .int     { background: #5D9E5D; }\n",
       ".datatable .float   { background: #4040CC; }\n",
       ".datatable .str     { background: #CC4040; }\n",
       ".datatable .time    { background: #40CC40; }\n",
       ".datatable .row_index {  background: var(--jp-border-color3);  border-right: 1px solid var(--jp-border-color0);  color: var(--jp-ui-font-color3);  font-size: 9px;}\n",
       ".datatable .frame tbody td { text-align: left; }\n",
       ".datatable .frame tr.coltypes .row_index {  background: var(--jp-border-color0);}\n",
       ".datatable th:nth-child(2) { padding-left: 12px; }\n",
       ".datatable .hellipsis {  color: var(--jp-cell-editor-border-color);}\n",
       ".datatable .vellipsis {  background: var(--jp-layout-color0);  color: var(--jp-cell-editor-border-color);}\n",
       ".datatable .na {  color: var(--jp-cell-editor-border-color);  font-size: 80%;}\n",
       ".datatable .sp {  opacity: 0.25;}\n",
       ".datatable .footer { font-size: 9px; }\n",
       ".datatable .frame_dimensions {  background: var(--jp-border-color3);  border-top: 1px solid var(--jp-border-color0);  color: var(--jp-ui-font-color3);  display: inline-block;  opacity: 0.6;  padding: 1px 10px 1px 5px;}\n",
       "</style>\n"
      ],
      "text/plain": [
       "<IPython.core.display.HTML object>"
      ]
     },
     "metadata": {},
     "output_type": "display_data"
    },
    {
     "name": "stdout",
     "output_type": "stream",
     "text": [
      "Processing /kaggle/input/d/qiwenshi/ta-lib/talib_binary-0.4.19-cp37-cp37m-manylinux1_x86_64.whl\r\n",
      "Requirement already satisfied: numpy in /opt/conda/lib/python3.7/site-packages (from talib-binary==0.4.19) (1.21.6)\r\n",
      "Installing collected packages: talib-binary\r\n",
      "Successfully installed talib-binary-0.4.19\r\n",
      "\u001b[33mWARNING: Running pip as the 'root' user can result in broken permissions and conflicting behaviour with the system package manager. It is recommended to use a virtual environment instead: https://pip.pypa.io/warnings/venv\u001b[0m\u001b[33m\r\n",
      "\u001b[0m"
     ]
    }
   ],
   "source": [
    "# This Python 3 environment comes with many helpful analytics libraries installed\n",
    "# It is defined by the kaggle/python Docker image: https://github.com/kaggle/docker-python\n",
    "# For example, here's several helpful packages to load\n",
    "import numpy as np # linear algebra\n",
    "import pandas as pd # data processing, CSV file I/O (e.g. pd.read_csv)\n",
    "import os\n",
    "from qids_package.qids import *\n",
    "import lightgbm as lgb\n",
    "!pip install /kaggle/input/d/qiwenshi/ta-lib/talib_binary-0.4.19-cp37-cp37m-manylinux1_x86_64.whl\n",
    "import talib as ta\n",
    "import pykalman \n",
    "from scipy.fft import fft,fftfreq"
   ]
  },
  {
   "cell_type": "code",
   "execution_count": 2,
   "id": "11c17cf2",
   "metadata": {
    "execution": {
     "iopub.execute_input": "2023-03-11T11:28:20.902898Z",
     "iopub.status.busy": "2023-03-11T11:28:20.902482Z",
     "iopub.status.idle": "2023-03-11T11:28:25.116060Z",
     "shell.execute_reply": "2023-03-11T11:28:25.114113Z"
    },
    "papermill": {
     "duration": 4.221415,
     "end_time": "2023-03-11T11:28:25.118498",
     "exception": false,
     "start_time": "2023-03-11T11:28:20.897083",
     "status": "completed"
    },
    "tags": []
   },
   "outputs": [
    {
     "name": "stdout",
     "output_type": "stream",
     "text": [
      "Environment is initialized.\n"
     ]
    }
   ],
   "source": [
    "env = make_env()  # initialize the environment"
   ]
  },
  {
   "cell_type": "code",
   "execution_count": 3,
   "id": "dece5498",
   "metadata": {
    "execution": {
     "iopub.execute_input": "2023-03-11T11:28:25.127431Z",
     "iopub.status.busy": "2023-03-11T11:28:25.127011Z",
     "iopub.status.idle": "2023-03-11T11:28:30.829468Z",
     "shell.execute_reply": "2023-03-11T11:28:30.828413Z"
    },
    "papermill": {
     "duration": 5.709661,
     "end_time": "2023-03-11T11:28:30.831965",
     "exception": false,
     "start_time": "2023-03-11T11:28:25.122304",
     "status": "completed"
    },
    "tags": []
   },
   "outputs": [],
   "source": [
    "fun_data = pd.read_csv('/kaggle/input/hku-qids-2023-quantitative-investment-competition/first_round_train_fundamental_data.csv')\n",
    "mark_data = pd.read_csv(\"/kaggle/input/hku-qids-2023-quantitative-investment-competition/first_round_train_market_data.csv\")\n",
    "return_data = pd.read_csv(\"/kaggle/input/hku-qids-2023-quantitative-investment-competition/first_round_train_return_data.csv\")"
   ]
  },
  {
   "cell_type": "code",
   "execution_count": 4,
   "id": "ed4baa95",
   "metadata": {
    "execution": {
     "iopub.execute_input": "2023-03-11T11:28:30.842265Z",
     "iopub.status.busy": "2023-03-11T11:28:30.841785Z",
     "iopub.status.idle": "2023-03-11T11:28:30.869651Z",
     "shell.execute_reply": "2023-03-11T11:28:30.868341Z"
    },
    "papermill": {
     "duration": 0.036362,
     "end_time": "2023-03-11T11:28:30.872322",
     "exception": false,
     "start_time": "2023-03-11T11:28:30.835960",
     "status": "completed"
    },
    "tags": []
   },
   "outputs": [],
   "source": [
    "def merge_data(market,fundamental):\n",
    "    # make your prediction Y here and replace the following four rows\n",
    "    market['date'] = market.apply(lambda x: x['date_time'].split('p')[0], axis=1)\n",
    "    fundamental.rename(columns={\"date_time\": \"date\"}, inplace=True)\n",
    "    market = pd.merge(market, fundamental, on='date')\n",
    "    market = market.drop(\"date\", axis='columns')\n",
    "    market['stock'] = market.apply(lambda x: x['date_time'].split('d')[0].split('s')[1], axis=1)\n",
    "    market['day'] = market.apply(lambda x: x['date_time'].split('p')[0], axis=1)\n",
    "    market['time'] = market.apply(lambda x: x['date_time'].split('p')[1], axis=1)\n",
    "    market['days'] = market.apply(lambda x: x['day'].split('d')[1], axis=1)\n",
    "    market = market.drop(\"day\", axis='columns')\n",
    "    market['stock'] = market['stock'].astype('int')\n",
    "    market['days'] = market['days'].astype('int')\n",
    "    market['time'] = market['time'].astype('int')    \n",
    "    market = market.sort_values(by=['stock', 'days','time'], ascending=[True, True,True])\n",
    "    return market\n",
    "\n",
    "def subtract_from_previous_50(row,feature,full_data):\n",
    "    if int(row.time) % 50 == 0 and int(row.time) >= 50:\n",
    "        return row[feature] - full_data.iloc[row.name - 49][feature]\n",
    "    else:\n",
    "        return row[feature]\n",
    "def preprocess(full_data):\n",
    "    full_data['stock_day'] = full_data.apply(lambda x: x['date_time'].split('p')[0], axis=1)\n",
    "    grouped = full_data.groupby('stock') \n",
    "    result = pd.DataFrame()\n",
    "    for stock, group in grouped:    \n",
    "        features = ['money','volume','close']\n",
    "        # Finding the diff between p1 and p50\n",
    "        for feature in features:\n",
    "            group[feature+'_rsi'] = ta.RSI(group[feature], 50)\n",
    "            group[feature+'_sma'] = ta.SMA(group[feature], 50)\n",
    "            group[feature+'_slope'] = ta.LINEARREG_SLOPE(group[feature], timeperiod = 50)\n",
    "        group['ADX'] = ta.ADX(group['high'], group['low'], group['close'], 50)\n",
    "        slowk, slowd = ta.STOCH(group['high'], group['low'], group['close'], \n",
    "                           fastk_period=5, slowk_period=14, slowk_matype=0, slowd_period=14, slowd_matype=0)\n",
    "\n",
    "        group['slowk'] = slowk\n",
    "        group['slowd'] = slowd\n",
    "        macd, signal, hist = ta.MACD(group['close'], fastperiod=10, slowperiod=20, signalperiod=5)\n",
    "        group['macd'] = macd\n",
    "        group['signal'] = signal\n",
    "        group['hist'] = hist\n",
    "        group['dema'] = ta.DEMA(group['close'],timeperiod = 50)\n",
    "        #group['slope'] = ta.LINEARREG_SLOPE(group['slope'], timeperiod = 50)\n",
    "        group['cci'] = ta.CCI(group['high'], group['low'], group['close'], 50)\n",
    "        \n",
    "        group['DX'] = ta.DX(group['high'], group['low'], group['close'], 50)\n",
    "        \n",
    "        group['plus_di'] = ta.PLUS_DI(group['high'], group['low'], group['close'], 50)\n",
    "        \n",
    "        group['plus_dm'] = ta.PLUS_DM(group['high'], group['low'], 50)\n",
    "        features = ['money','volume','low','high','close','open']\n",
    "        # Finding the gap between p1 and p50\n",
    "        group = group.reset_index(drop=True)\n",
    "        for feature in features:\n",
    "            group[feature+'_gap'] = group.apply(lambda x: subtract_from_previous_50(x,feature,group), axis=1)\n",
    "        group = group.loc[group['time'] == 50]\n",
    "        result = result.append(group, ignore_index=True)\n",
    "    \n",
    "    result['EPS'] = result['close']/result['pe']\n",
    "    \n",
    "    return result\n",
    "\n",
    "def split_complex_number(z):\n",
    "    return pd.Series({'real': np.real(z), 'imag': np.imag(z)})\n",
    "def filter_return(train_return):\n",
    "    grouped = train_return.groupby('stock') \n",
    "    result = pd.DataFrame()\n",
    "    for stock, group in grouped:\n",
    "        returns = np.log(group['close']/group['close'].shift(1))\n",
    "        \n",
    "        N = len(group)\n",
    "        \n",
    "        yf = fft(returns.fillna(0).values)\n",
    "        kf = pykalman.KalmanFilter(initial_state_mean=0, n_dim_obs=1,\n",
    "                                   n_dim_state=1)\n",
    "        kf_state_means, _ = kf.filter(returns.values)\n",
    "    \n",
    "        group['fourier_returns'] = yf\n",
    "        group['kalman_returns'] = pd.Series(kf_state_means.flatten(), index=group.index)\n",
    "        result = result.append(group, ignore_index=True)\n",
    "    \n",
    "\n",
    "    # Apply the function to the 'complex_numbers' column\n",
    "    result[['fourier_real', 'fourier_ima']] = result['fourier_returns'].apply(split_complex_number)\n",
    "    result = result.drop(\"fourier_returns\", axis='columns')\n",
    "    \n",
    "    return result"
   ]
  },
  {
   "cell_type": "code",
   "execution_count": 5,
   "id": "4e2d36ba",
   "metadata": {
    "execution": {
     "iopub.execute_input": "2023-03-11T11:28:30.882726Z",
     "iopub.status.busy": "2023-03-11T11:28:30.882229Z",
     "iopub.status.idle": "2023-03-11T11:46:47.415755Z",
     "shell.execute_reply": "2023-03-11T11:46:47.414256Z"
    },
    "papermill": {
     "duration": 1096.542445,
     "end_time": "2023-03-11T11:46:47.419063",
     "exception": false,
     "start_time": "2023-03-11T11:28:30.876618",
     "status": "completed"
    },
    "tags": []
   },
   "outputs": [],
   "source": [
    "fundamental_df = pd.read_csv('/kaggle/input/hku-qids-2023-quantitative-investment-competition/qids_package/first_round_test_fundamental_data.csv')\n",
    "market_df = pd.read_csv('/kaggle/input/hku-qids-2023-quantitative-investment-competition/qids_package/first_round_test_market_data.csv')\n",
    "\n",
    "# append the correlated dataset to train dataset\n",
    "fun_data = fun_data.append(fundamental_df)\n",
    "mark_data = mark_data.append(market_df)\n",
    "\n",
    "# Merging the required dataset\n",
    "full_data = merge_data(mark_data,fun_data)\n",
    "# Starting feature engineering\n",
    "full_data_return = preprocess(full_data)\n",
    "# Spliting training and testing data\n",
    "full_data_return = filter_return(full_data_return)\n",
    "full_data_return_train = full_data_return.loc[full_data_return.days < 1001]\n",
    "full_data_return_predict = full_data_return.loc[full_data_return.days >= 1001]\n",
    "\n",
    "full_data_return_train = full_data_return_train.drop(\"date_time\", axis='columns')\n",
    "full_data_return_train.rename(columns={\"stock_day\": \"date_time\"}, inplace=True)"
   ]
  },
  {
   "cell_type": "code",
   "execution_count": 6,
   "id": "0b36c9e4",
   "metadata": {
    "execution": {
     "iopub.execute_input": "2023-03-11T11:46:47.428950Z",
     "iopub.status.busy": "2023-03-11T11:46:47.428549Z",
     "iopub.status.idle": "2023-03-11T11:46:47.536580Z",
     "shell.execute_reply": "2023-03-11T11:46:47.535501Z"
    },
    "papermill": {
     "duration": 0.115925,
     "end_time": "2023-03-11T11:46:47.539320",
     "exception": false,
     "start_time": "2023-03-11T11:46:47.423395",
     "status": "completed"
    },
    "tags": []
   },
   "outputs": [],
   "source": [
    "train_return = pd.merge(full_data_return_train, return_data, on='date_time')\n",
    "train_return = train_return.set_index('date_time')"
   ]
  },
  {
   "cell_type": "code",
   "execution_count": 7,
   "id": "c5527311",
   "metadata": {
    "execution": {
     "iopub.execute_input": "2023-03-11T11:46:47.549314Z",
     "iopub.status.busy": "2023-03-11T11:46:47.548918Z",
     "iopub.status.idle": "2023-03-11T11:46:52.838330Z",
     "shell.execute_reply": "2023-03-11T11:46:52.837255Z"
    },
    "papermill": {
     "duration": 5.297555,
     "end_time": "2023-03-11T11:46:52.841004",
     "exception": false,
     "start_time": "2023-03-11T11:46:47.543449",
     "status": "completed"
    },
    "tags": []
   },
   "outputs": [
    {
     "name": "stderr",
     "output_type": "stream",
     "text": [
      "/opt/conda/lib/python3.7/site-packages/lightgbm/engine.py:239: UserWarning: 'verbose_eval' argument is deprecated and will be removed in a future release of LightGBM. Pass 'log_evaluation()' callback via 'callbacks' argument instead.\n",
      "  _log_warning(\"'verbose_eval' argument is deprecated and will be removed in a future release of LightGBM. \"\n"
     ]
    }
   ],
   "source": [
    "xtrain = train_return.loc[:, train_return.columns != 'return']\n",
    "ytrain = train_return['return']\n",
    "\n",
    "params = {\n",
    "      'objective': 'rmse',  \n",
    "      'boosting_type': 'dart',\n",
    "      'tree_learner': 'feature',\n",
    "      'n_jobs': -1,\n",
    "      'verbose': -1\n",
    "    }\n",
    "train_dataset = lgb.Dataset(xtrain, ytrain)\n",
    "model = lgb.train(params = params,  \n",
    "                  train_set = train_dataset,\n",
    "                          num_boost_round = 200, \n",
    "                          verbose_eval = False\n",
    "                          )\n",
    "\n",
    "full_data_return_predict = full_data_return_predict.drop(\"date_time\", axis='columns')\n",
    "full_data_return_predict.rename(columns={\"stock_day\": \"date_time\"}, inplace=True)\n",
    "test = full_data_return_predict.set_index('date_time')\n",
    "predict = model.predict(test)\n",
    "test['return'] = predict\n",
    "test = test.reset_index()\n",
    "test[['date_time', 'return']].to_csv('submission.csv',index = False)  # upload your predicted Y"
   ]
  },
  {
   "cell_type": "code",
   "execution_count": 8,
   "id": "6bbe6dd0",
   "metadata": {
    "execution": {
     "iopub.execute_input": "2023-03-11T11:46:52.851068Z",
     "iopub.status.busy": "2023-03-11T11:46:52.850296Z",
     "iopub.status.idle": "2023-03-11T11:46:52.888312Z",
     "shell.execute_reply": "2023-03-11T11:46:52.886228Z"
    },
    "papermill": {
     "duration": 0.046151,
     "end_time": "2023-03-11T11:46:52.891292",
     "exception": false,
     "start_time": "2023-03-11T11:46:52.845141",
     "status": "completed"
    },
    "tags": []
   },
   "outputs": [
    {
     "name": "stdout",
     "output_type": "stream",
     "text": [
      "      date_time    return\n",
      "0       s0d1001 -0.008123\n",
      "1       s0d1002 -0.006532\n",
      "2       s0d1003 -0.007853\n",
      "3       s0d1004 -0.009205\n",
      "4       s0d1005 -0.007505\n",
      "...         ...       ...\n",
      "37795  s53d1696 -0.005409\n",
      "37796  s53d1697 -0.004042\n",
      "37797  s53d1698 -0.005365\n",
      "37798  s53d1699 -0.002419\n",
      "37799  s53d1700 -0.001851\n",
      "\n",
      "[37800 rows x 2 columns]\n"
     ]
    }
   ],
   "source": [
    "import pandas as pd\n",
    "print(pd.read_csv('/kaggle/working/submission.csv'))"
   ]
  },
  {
   "cell_type": "code",
   "execution_count": 9,
   "id": "b4196ccb",
   "metadata": {
    "execution": {
     "iopub.execute_input": "2023-03-11T11:46:52.901417Z",
     "iopub.status.busy": "2023-03-11T11:46:52.900954Z",
     "iopub.status.idle": "2023-03-11T11:46:52.907045Z",
     "shell.execute_reply": "2023-03-11T11:46:52.905772Z"
    },
    "papermill": {
     "duration": 0.015234,
     "end_time": "2023-03-11T11:46:52.910620",
     "exception": false,
     "start_time": "2023-03-11T11:46:52.895386",
     "status": "completed"
    },
    "tags": []
   },
   "outputs": [
    {
     "name": "stdout",
     "output_type": "stream",
     "text": [
      "['ACOS', 'AD', 'ADD', 'ADOSC', 'ADX', 'ADXR', 'APO', 'AROON', 'AROONOSC', 'ASIN', 'ATAN', 'ATR', 'AVGPRICE', 'BBANDS', 'BETA', 'BOP', 'CCI', 'CDL2CROWS', 'CDL3BLACKCROWS', 'CDL3INSIDE', 'CDL3LINESTRIKE', 'CDL3OUTSIDE', 'CDL3STARSINSOUTH', 'CDL3WHITESOLDIERS', 'CDLABANDONEDBABY', 'CDLADVANCEBLOCK', 'CDLBELTHOLD', 'CDLBREAKAWAY', 'CDLCLOSINGMARUBOZU', 'CDLCONCEALBABYSWALL', 'CDLCOUNTERATTACK', 'CDLDARKCLOUDCOVER', 'CDLDOJI', 'CDLDOJISTAR', 'CDLDRAGONFLYDOJI', 'CDLENGULFING', 'CDLEVENINGDOJISTAR', 'CDLEVENINGSTAR', 'CDLGAPSIDESIDEWHITE', 'CDLGRAVESTONEDOJI', 'CDLHAMMER', 'CDLHANGINGMAN', 'CDLHARAMI', 'CDLHARAMICROSS', 'CDLHIGHWAVE', 'CDLHIKKAKE', 'CDLHIKKAKEMOD', 'CDLHOMINGPIGEON', 'CDLIDENTICAL3CROWS', 'CDLINNECK', 'CDLINVERTEDHAMMER', 'CDLKICKING', 'CDLKICKINGBYLENGTH', 'CDLLADDERBOTTOM', 'CDLLONGLEGGEDDOJI', 'CDLLONGLINE', 'CDLMARUBOZU', 'CDLMATCHINGLOW', 'CDLMATHOLD', 'CDLMORNINGDOJISTAR', 'CDLMORNINGSTAR', 'CDLONNECK', 'CDLPIERCING', 'CDLRICKSHAWMAN', 'CDLRISEFALL3METHODS', 'CDLSEPARATINGLINES', 'CDLSHOOTINGSTAR', 'CDLSHORTLINE', 'CDLSPINNINGTOP', 'CDLSTALLEDPATTERN', 'CDLSTICKSANDWICH', 'CDLTAKURI', 'CDLTASUKIGAP', 'CDLTHRUSTING', 'CDLTRISTAR', 'CDLUNIQUE3RIVER', 'CDLUPSIDEGAP2CROWS', 'CDLXSIDEGAP3METHODS', 'CEIL', 'CMO', 'CORREL', 'COS', 'COSH', 'DEMA', 'DIV', 'DX', 'EMA', 'EXP', 'FLOOR', 'HT_DCPERIOD', 'HT_DCPHASE', 'HT_PHASOR', 'HT_SINE', 'HT_TRENDLINE', 'HT_TRENDMODE', 'KAMA', 'LINEARREG', 'LINEARREG_ANGLE', 'LINEARREG_INTERCEPT', 'LINEARREG_SLOPE', 'LN', 'LOG10', 'MA', 'MACD', 'MACDEXT', 'MACDFIX', 'MAMA', 'MAVP', 'MAX', 'MAXINDEX', 'MA_Type', 'MEDPRICE', 'MFI', 'MIDPOINT', 'MIDPRICE', 'MIN', 'MININDEX', 'MINMAX', 'MINMAXINDEX', 'MINUS_DI', 'MINUS_DM', 'MOM', 'MULT', 'NATR', 'OBV', 'PLUS_DI', 'PLUS_DM', 'PPO', 'ROC', 'ROCP', 'ROCR', 'ROCR100', 'RSI', 'SAR', 'SAREXT', 'SIN', 'SINH', 'SMA', 'SQRT', 'STDDEV', 'STOCH', 'STOCHF', 'STOCHRSI', 'SUB', 'SUM', 'T3', 'TAN', 'TANH', 'TEMA', 'TRANGE', 'TRIMA', 'TRIX', 'TSF', 'TYPPRICE', 'ULTOSC', 'VAR', 'WCLPRICE', 'WILLR', 'WMA', '__TA_FUNCTION_NAMES__', '__all__', '__builtins__', '__cached__', '__doc__', '__file__', '__function_groups__', '__loader__', '__name__', '__package__', '__path__', '__spec__', '__ta_version__', '__version__', '_pandas_wrapper', '_pd_Series', '_ta_initialize', '_ta_lib', '_ta_shutdown', 'atexit', 'chain', 'func', 'func_name', 'get_compatibility', 'get_function_groups', 'get_functions', 'get_unstable_period', 'set_compatibility', 'set_unstable_period', 'wrapped_func', 'wraps']\n"
     ]
    }
   ],
   "source": [
    "print(dir(ta))"
   ]
  }
 ],
 "metadata": {
  "kernelspec": {
   "display_name": "Python 3",
   "language": "python",
   "name": "python3"
  },
  "language_info": {
   "codemirror_mode": {
    "name": "ipython",
    "version": 3
   },
   "file_extension": ".py",
   "mimetype": "text/x-python",
   "name": "python",
   "nbconvert_exporter": "python",
   "pygments_lexer": "ipython3",
   "version": "3.7.12"
  },
  "papermill": {
   "default_parameters": {},
   "duration": 1140.04205,
   "end_time": "2023-03-11T11:46:54.445387",
   "environment_variables": {},
   "exception": null,
   "input_path": "__notebook__.ipynb",
   "output_path": "__notebook__.ipynb",
   "parameters": {},
   "start_time": "2023-03-11T11:27:54.403337",
   "version": "2.3.4"
  }
 },
 "nbformat": 4,
 "nbformat_minor": 5
}
